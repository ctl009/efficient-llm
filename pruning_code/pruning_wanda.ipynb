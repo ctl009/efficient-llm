{
 "cells": [
  {
   "cell_type": "code",
   "execution_count": 1,
   "metadata": {
    "executionInfo": {
     "elapsed": 3,
     "status": "ok",
     "timestamp": 1733773332668,
     "user": {
      "displayName": "Sarang Sridhar",
      "userId": "14368872297999423761"
     },
     "user_tz": 300
    },
    "id": "_HTWCVT88Slp"
   },
   "outputs": [],
   "source": [
    "from google.colab import drive"
   ]
  },
  {
   "cell_type": "code",
   "execution_count": 2,
   "metadata": {
    "executionInfo": {
     "elapsed": 241,
     "status": "ok",
     "timestamp": 1733773335621,
     "user": {
      "displayName": "Sarang Sridhar",
      "userId": "14368872297999423761"
     },
     "user_tz": 300
    },
    "id": "99_C_KcWMYLU"
   },
   "outputs": [],
   "source": [
    "path = \"/content/drive/My Drive/CIS 5300 Final Project/WANDA_FINAL\"\n"
   ]
  },
  {
   "cell_type": "code",
   "execution_count": null,
   "metadata": {
    "colab": {
     "base_uri": "https://localhost:8080/"
    },
    "executionInfo": {
     "elapsed": 15213,
     "status": "ok",
     "timestamp": 1733773352048,
     "user": {
      "displayName": "Sarang Sridhar",
      "userId": "14368872297999423761"
     },
     "user_tz": 300
    },
    "id": "2c20m7H9oYaJ",
    "outputId": "2e8815e2-6026-4369-c8de-6f13d3ca23e0"
   },
   "outputs": [],
   "source": [
    "drive.mount('/content/drive', force_remount=True)"
   ]
  },
  {
   "cell_type": "code",
   "execution_count": null,
   "metadata": {
    "colab": {
     "base_uri": "https://localhost:8080/"
    },
    "executionInfo": {
     "elapsed": 1067,
     "status": "ok",
     "timestamp": 1733773372457,
     "user": {
      "displayName": "Sarang Sridhar",
      "userId": "14368872297999423761"
     },
     "user_tz": 300
    },
    "id": "E1N9JNTAoZJE",
    "outputId": "dfd337af-5691-4180-a0df-4fdfa336bfff"
   },
   "outputs": [],
   "source": [
    "!ls \"$path\""
   ]
  },
  {
   "cell_type": "code",
   "execution_count": null,
   "metadata": {
    "colab": {
     "base_uri": "https://localhost:8080/"
    },
    "executionInfo": {
     "elapsed": 16536,
     "status": "ok",
     "timestamp": 1733773391689,
     "user": {
      "displayName": "Sarang Sridhar",
      "userId": "14368872297999423761"
     },
     "user_tz": 300
    },
    "id": "F5MpCGTspsAW",
    "outputId": "d8616143-bd95-4cea-dd52-f9531a1e40da"
   },
   "outputs": [],
   "source": [
    "!pip install pytorch\n",
    "!pip install transformers\n",
    "!pip install datasets\n",
    "!pip install wandb\n",
    "!pip install sentencepiece\n",
    "!pip install accelerate"
   ]
  },
  {
   "cell_type": "code",
   "execution_count": null,
   "metadata": {
    "colab": {
     "base_uri": "https://localhost:8080/"
    },
    "executionInfo": {
     "elapsed": 154,
     "status": "ok",
     "timestamp": 1733773395034,
     "user": {
      "displayName": "Sarang Sridhar",
      "userId": "14368872297999423761"
     },
     "user_tz": 300
    },
    "id": "A96JQ78orKVl",
    "outputId": "a2b86565-1fe8-40ea-9497-4014a75300ec"
   },
   "outputs": [],
   "source": [
    "%cd \"$path\""
   ]
  },
  {
   "cell_type": "code",
   "execution_count": 7,
   "metadata": {
    "executionInfo": {
     "elapsed": 819,
     "status": "ok",
     "timestamp": 1733773397352,
     "user": {
      "displayName": "Sarang Sridhar",
      "userId": "14368872297999423761"
     },
     "user_tz": 300
    },
    "id": "6UNBDxdQOJQV"
   },
   "outputs": [],
   "source": [
    "from huggingface_hub import login"
   ]
  },
  {
   "cell_type": "code",
   "execution_count": null,
   "metadata": {
    "colab": {
     "base_uri": "https://localhost:8080/"
    },
    "executionInfo": {
     "elapsed": 57800,
     "status": "ok",
     "timestamp": 1733774322928,
     "user": {
      "displayName": "Sarang Sridhar",
      "userId": "14368872297999423761"
     },
     "user_tz": 300
    },
    "id": "fyJHnq9esDwo",
    "outputId": "cff19b01-8738-41cb-f028-9fac57a00cd4"
   },
   "outputs": [],
   "source": [
    "# @title Default title text\n",
    "!bash opt_main.sh"
   ]
  }
 ],
 "metadata": {
  "accelerator": "GPU",
  "colab": {
   "gpuType": "T4",
   "provenance": []
  },
  "kernelspec": {
   "display_name": "Python 3",
   "name": "python3"
  },
  "language_info": {
   "name": "python"
  }
 },
 "nbformat": 4,
 "nbformat_minor": 0
}
